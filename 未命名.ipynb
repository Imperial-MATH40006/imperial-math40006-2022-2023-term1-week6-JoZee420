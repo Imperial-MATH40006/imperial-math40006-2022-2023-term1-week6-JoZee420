{
 "cells": [
  {
   "cell_type": "code",
   "execution_count": 5,
   "id": "ab379a49",
   "metadata": {},
   "outputs": [
    {
     "data": {
      "text/plain": [
       "0.0"
      ]
     },
     "execution_count": 5,
     "metadata": {},
     "output_type": "execute_result"
    }
   ],
   "source": [
    "from math import*\n",
    "int1=0\n",
    "int2=10\n",
    "float1=12.0\n",
    "float2=10.0\n",
    "x=int1\n",
    "y=float1\n",
    "sin(int1)"
   ]
  },
  {
   "cell_type": "code",
   "execution_count": 3,
   "id": "6bb4cee4",
   "metadata": {},
   "outputs": [
    {
     "data": {
      "text/plain": [
       "-0.5365729180004349"
      ]
     },
     "execution_count": 3,
     "metadata": {},
     "output_type": "execute_result"
    }
   ],
   "source": [
    "sin(float1)"
   ]
  },
  {
   "cell_type": "code",
   "execution_count": 13,
   "id": "cdb5a84a",
   "metadata": {},
   "outputs": [
    {
     "data": {
      "text/plain": [
       "123.0"
      ]
     },
     "execution_count": 13,
     "metadata": {},
     "output_type": "execute_result"
    }
   ],
   "source": [
    "complex1 = 123+0j# (delete, and insert value here)\n",
    "complex2 = 456+0j# (delete, and insert value here)\n",
    "complex3 = 789+0j# (delete, and insert value here)\n",
    "complex4 = 123+456j# (delete, and insert value here)\n",
    "complex5 = 123.0+456.0j# (delete, and insert value here)\n",
    "x=123\n",
    "float1=123.0\n",
    "y=complex1\n",
    "z=float1\n",
    "p=z+y\n",
    "complex1.real"
   ]
  },
  {
   "cell_type": "code",
   "execution_count": 17,
   "id": "2a576634",
   "metadata": {},
   "outputs": [
    {
     "data": {
      "text/plain": [
       "2"
      ]
     },
     "execution_count": 17,
     "metadata": {},
     "output_type": "execute_result"
    }
   ],
   "source": [
    "2+ False"
   ]
  },
  {
   "cell_type": "code",
   "execution_count": 19,
   "id": "619ec8f8",
   "metadata": {},
   "outputs": [
    {
     "data": {
      "text/plain": [
       "True"
      ]
     },
     "execution_count": 19,
     "metadata": {},
     "output_type": "execute_result"
    }
   ],
   "source": [
    "True^False"
   ]
  },
  {
   "cell_type": "code",
   "execution_count": 20,
   "id": "b584396b",
   "metadata": {},
   "outputs": [
    {
     "data": {
      "text/plain": [
       "False"
      ]
     },
     "execution_count": 20,
     "metadata": {},
     "output_type": "execute_result"
    }
   ],
   "source": [
    "3<4 ^2==2"
   ]
  },
  {
   "cell_type": "code",
   "execution_count": 21,
   "id": "29433018",
   "metadata": {},
   "outputs": [
    {
     "data": {
      "text/plain": [
       "1"
      ]
     },
     "execution_count": 21,
     "metadata": {},
     "output_type": "execute_result"
    }
   ],
   "source": [
    "4^5"
   ]
  },
  {
   "cell_type": "code",
   "execution_count": 22,
   "id": "4a6d3d93",
   "metadata": {},
   "outputs": [
    {
     "data": {
      "text/plain": [
       "12"
      ]
     },
     "execution_count": 22,
     "metadata": {},
     "output_type": "execute_result"
    }
   ],
   "source": [
    "4^8"
   ]
  },
  {
   "cell_type": "code",
   "execution_count": 23,
   "id": "d0257684",
   "metadata": {},
   "outputs": [
    {
     "data": {
      "text/plain": [
       "7"
      ]
     },
     "execution_count": 23,
     "metadata": {},
     "output_type": "execute_result"
    }
   ],
   "source": [
    "3^4"
   ]
  },
  {
   "cell_type": "code",
   "execution_count": 24,
   "id": "7cb80a4f",
   "metadata": {},
   "outputs": [
    {
     "data": {
      "text/plain": [
       "5"
      ]
     },
     "execution_count": 24,
     "metadata": {},
     "output_type": "execute_result"
    }
   ],
   "source": [
    "1^4"
   ]
  },
  {
   "cell_type": "code",
   "execution_count": 25,
   "id": "dc8e90bb",
   "metadata": {},
   "outputs": [
    {
     "data": {
      "text/plain": [
       "1"
      ]
     },
     "execution_count": 25,
     "metadata": {},
     "output_type": "execute_result"
    }
   ],
   "source": [
    "4^5"
   ]
  },
  {
   "cell_type": "code",
   "execution_count": null,
   "id": "31fc035c",
   "metadata": {},
   "outputs": [],
   "source": []
  }
 ],
 "metadata": {
  "kernelspec": {
   "display_name": "Python 3 (ipykernel)",
   "language": "python",
   "name": "python3"
  },
  "language_info": {
   "codemirror_mode": {
    "name": "ipython",
    "version": 3
   },
   "file_extension": ".py",
   "mimetype": "text/x-python",
   "name": "python",
   "nbconvert_exporter": "python",
   "pygments_lexer": "ipython3",
   "version": "3.9.13"
  }
 },
 "nbformat": 4,
 "nbformat_minor": 5
}
